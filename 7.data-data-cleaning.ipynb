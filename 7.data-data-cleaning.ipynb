{
 "cells": [
  {
   "cell_type": "code",
   "execution_count": 1,
   "id": "4f5e5cd3",
   "metadata": {},
   "outputs": [],
   "source": [
    "#import libraries\n",
    "import numpy as np\n",
    "import pandas as pd"
   ]
  },
  {
   "cell_type": "code",
   "execution_count": 2,
   "id": "6c8316ea",
   "metadata": {},
   "outputs": [],
   "source": [
    "#read csv\n",
    "df=pd.read_csv(\"data.csv\")"
   ]
  },
  {
   "cell_type": "code",
   "execution_count": 3,
   "id": "6757ef59",
   "metadata": {},
   "outputs": [
    {
     "data": {
      "text/plain": [
       "(1880, 7)"
      ]
     },
     "execution_count": 3,
     "metadata": {},
     "output_type": "execute_result"
    }
   ],
   "source": [
    "df.shape"
   ]
  },
  {
   "cell_type": "code",
   "execution_count": 4,
   "id": "3bedc380",
   "metadata": {},
   "outputs": [
    {
     "data": {
      "text/plain": [
       "Index(['Date', 'Company', 'Title', 'Location', 'Job Seniorty',\n",
       "       'Company Industry', 'Job link'],\n",
       "      dtype='object')"
      ]
     },
     "execution_count": 4,
     "metadata": {},
     "output_type": "execute_result"
    }
   ],
   "source": [
    "df.columns"
   ]
  },
  {
   "cell_type": "code",
   "execution_count": 5,
   "id": "9618feb3",
   "metadata": {},
   "outputs": [],
   "source": [
    "#delete %100 duplicated rows\n",
    "df=df.drop_duplicates() "
   ]
  },
  {
   "cell_type": "code",
   "execution_count": 6,
   "id": "0c3f0590",
   "metadata": {},
   "outputs": [
    {
     "data": {
      "text/plain": [
       "(940, 7)"
      ]
     },
     "execution_count": 6,
     "metadata": {},
     "output_type": "execute_result"
    }
   ],
   "source": [
    "df.shape"
   ]
  },
  {
   "cell_type": "code",
   "execution_count": 7,
   "id": "6e4790bf",
   "metadata": {},
   "outputs": [],
   "source": [
    "#formating columns to lower\n",
    "df.columns=df.columns.str.lower()"
   ]
  },
  {
   "cell_type": "code",
   "execution_count": 8,
   "id": "e1aa1ef5",
   "metadata": {},
   "outputs": [
    {
     "data": {
      "text/plain": [
       "Data Engineer                                                          60\n",
       "Data Scientist                                                         56\n",
       "Business Analyst                                                       33\n",
       "Data Analyst                                                           27\n",
       "Senior Data Analyst                                                    20\n",
       "                                                                       ..\n",
       "Health Management Data Scientist                                        1\n",
       "Data Analiyst                                                           1\n",
       "DATA SCIENTIST amplia experiencia en ML - apasionada(o) del Deporte     1\n",
       "Analytics Consultant                                                    1\n",
       "Senior web analyst                                                      1\n",
       "Name: title, Length: 427, dtype: int64"
      ]
     },
     "execution_count": 8,
     "metadata": {},
     "output_type": "execute_result"
    }
   ],
   "source": [
    "#Checking title columnn\n",
    "df.title.value_counts()"
   ]
  },
  {
   "cell_type": "code",
   "execution_count": 9,
   "id": "1998cf2b",
   "metadata": {},
   "outputs": [],
   "source": [
    "df.title=df.title.str.lstrip()\n",
    "df.title=df.title.str.rstrip()\n",
    "df.title=df.title.str.lower()"
   ]
  },
  {
   "cell_type": "code",
   "execution_count": 10,
   "id": "f42a0810",
   "metadata": {},
   "outputs": [],
   "source": [
    "df.loc[df[\"title\"].str.contains(\"data analyst\", case=False), \"title\"] = \"Data_Analyst\"\n",
    "df.loc[df[\"title\"].str.contains(\"analista\", case=False), \"title\"] = \"Data_Analyst\"\n",
    "df.loc[df[\"title\"].str.contains(\"product\", case=False), \"title\"] = \"Data_Analyst\"\n",
    "df.loc[df[\"title\"].str.contains(\"solutions\", case=False), \"title\"] = \"Data_Analyst\"\n",
    "df.loc[df[\"title\"].str.contains(\"intelligence\", case=False), \"title\"] = \"Data_Analyst\"\n",
    "df.loc[df[\"title\"].str.contains(\"analytics\", case=False), \"title\"] = \"Data_Analyst\"\n",
    "df.loc[df[\"title\"].str.contains(\"research analyst\", case=False), \"title\"] = \"Data_Analyst\"\n",
    "df.loc[df[\"title\"].str.contains(\"big data\", case=False), \"title\"] = \"Data_Analyst\"\n",
    "df.loc[df[\"title\"].str.contains(\"consultant\", case=False), \"title\"] = \"Data_Analyst\"\n",
    "df.loc[df[\"title\"].str.contains(\"strategy\", case=False), \"title\"] = \"Data_Analyst\"\n",
    "df.loc[df[\"title\"].str.contains(\"bi analyst\", case=False), \"title\"] = \"Data_Analyst\"\n",
    "df.loc[df[\"title\"].str.contains(\"quality\", case=False), \"title\"] = \"Data_Analyst\"\n",
    "df.loc[df[\"title\"].str.contains(\"digital\", case=False), \"title\"] = \"Data_Analyst\"\n",
    "df.loc[df[\"title\"].str.contains(\"marketing\", case=False), \"title\"] = \"Data_Analyst\"\n",
    "df.loc[df[\"title\"].str.contains(\"senior analyst\", case=False), \"title\"] = \"Data_Analyst\"\n",
    "df.loc[df[\"title\"].str.contains(\"technical analyst\", case=False), \"title\"] = \"Data_Analyst\"\n",
    "\n",
    "\n",
    "df.loc[df[\"title\"].str.contains(\"engineer\", case=False), \"title\"] = \"Data_Engineer\"\n",
    "df.loc[df[\"title\"].str.contains(\"ingeniero\", case=False), \"title\"] = \"Data_Engineer\"\n",
    "df.loc[df[\"title\"].str.contains(\"data architect\", case=False), \"title\"] = \"Data_Engineer\"\n",
    "df.loc[df[\"title\"].str.contains(\"programador\", case=False), \"title\"] = \"Data_Engineer\"\n",
    "df.loc[df[\"title\"].str.contains(\"desarrolladores\", case=False), \"title\"] = \"Data_Engineer\"\n",
    "df.loc[df[\"title\"].str.contains(\"developer\", case=False), \"title\"] = \"Data_Engineer\"\n",
    "df.loc[df[\"title\"].str.contains(\"desarrollador\", case=False), \"title\"] = \"Data_Engineer\"\n",
    "\n",
    "\n",
    "df.loc[df[\"title\"].str.contains(\"scientist\", case=False), \"title\"] = \"Data_Scientist\"\n",
    "df.loc[df[\"title\"].str.contains(\"cientifico\", case=False), \"title\"] = \"Data_Scientist\"\n",
    "df.loc[df[\"title\"].str.contains(\"research\", case=False), \"title\"] = \"Data_Scientist\"\n",
    "\n",
    "\n",
    "df.loc[df[\"title\"].str.contains(\"business\", case=False), \"title\"] = \"Business_Analyst\""
   ]
  },
  {
   "cell_type": "code",
   "execution_count": 11,
   "id": "75eede7c",
   "metadata": {},
   "outputs": [
    {
     "data": {
      "text/plain": [
       "Data_Analyst                                                         375\n",
       "Data_Engineer                                                        272\n",
       "Business_Analyst                                                     146\n",
       "Data_Scientist                                                       104\n",
       "bi-data-analyst                                                        3\n",
       "trainee analyst - foodservice spain                                    3\n",
       "junior supply chain analyst                                            3\n",
       "bi team lead                                                           2\n",
       "data analysis internship ( madrid).                                    2\n",
       "especialista en estadística médica                                     2\n",
       "senior director analyst - cloud service offerings - europe remote      2\n",
       "campaign manager (remote)                                              2\n",
       "arquitecto de datos azure                                              2\n",
       "software garatzailea                                                   2\n",
       "proyecto nucleus                                                       2\n",
       "software crafter                                                       2\n",
       "senior pricing analyst                                                 2\n",
       "investor relations analyst                                             2\n",
       "workday hris specialist / analyst                                      2\n",
       "junior functional analyst (22k-26k €)                                  1\n",
       "sr. data visualization analyst                                         1\n",
       "científico de datos                                                    1\n",
       "data analiyst                                                          1\n",
       "consultor bi                                                           1\n",
       "senior web analyst                                                     1\n",
       "customer insights analyst                                              1\n",
       "mathematical programmer (c++)                                          1\n",
       "data & tech analyst                                                    1\n",
       "entry level - software analyst support                                 1\n",
       "Name: title, dtype: int64"
      ]
     },
     "execution_count": 11,
     "metadata": {},
     "output_type": "execute_result"
    }
   ],
   "source": [
    "#Checking title columnn\n",
    "df.title.value_counts()"
   ]
  },
  {
   "cell_type": "code",
   "execution_count": 12,
   "id": "e16a43cb",
   "metadata": {},
   "outputs": [
    {
     "data": {
      "text/plain": [
       "Amazon                             5\n",
       "The Cocktail                       5\n",
       "Gelato                             5\n",
       "TravelPerk                         5\n",
       "Scopely                            5\n",
       "                                  ..\n",
       "The Knot Worldwide                 1\n",
       "TRIGO                              1\n",
       "EDP Renewables                     1\n",
       "HCR | Human Centric Recruitment    1\n",
       "Fittest Freakest                   1\n",
       "Name: company, Length: 481, dtype: int64"
      ]
     },
     "execution_count": 12,
     "metadata": {},
     "output_type": "execute_result"
    }
   ],
   "source": [
    "#Checking title columnn\n",
    "df.company.value_counts()"
   ]
  },
  {
   "cell_type": "code",
   "execution_count": 13,
   "id": "5af18073",
   "metadata": {},
   "outputs": [],
   "source": [
    "df.company=df.company.str.lstrip()\n",
    "df.company=df.company.str.rstrip()\n",
    "df.company=df.company.str.lower()"
   ]
  },
  {
   "cell_type": "code",
   "execution_count": 14,
   "id": "46347ed6",
   "metadata": {},
   "outputs": [],
   "source": [
    "#Export data to CSV\n",
    "df=df.to_csv('df.csv',encoding='utf-8-sig', index=False)"
   ]
  }
 ],
 "metadata": {
  "kernelspec": {
   "display_name": "Python 3",
   "language": "python",
   "name": "python3"
  },
  "language_info": {
   "codemirror_mode": {
    "name": "ipython",
    "version": 3
   },
   "file_extension": ".py",
   "mimetype": "text/x-python",
   "name": "python",
   "nbconvert_exporter": "python",
   "pygments_lexer": "ipython3",
   "version": "3.9.2"
  }
 },
 "nbformat": 4,
 "nbformat_minor": 5
}
