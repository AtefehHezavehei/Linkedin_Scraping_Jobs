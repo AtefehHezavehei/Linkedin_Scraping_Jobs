{
 "cells": [
  {
   "cell_type": "code",
   "execution_count": 1,
   "id": "4f5e5cd3",
   "metadata": {},
   "outputs": [],
   "source": [
    "#import libraries\n",
    "import numpy as np\n",
    "import pandas as pd"
   ]
  },
  {
   "cell_type": "code",
   "execution_count": 2,
   "id": "6c8316ea",
   "metadata": {},
   "outputs": [],
   "source": [
    "#read csv\n",
    "df=pd.read_csv(\"final.csv\")"
   ]
  },
  {
   "cell_type": "code",
   "execution_count": 3,
   "id": "6757ef59",
   "metadata": {},
   "outputs": [
    {
     "data": {
      "text/plain": [
       "(105063, 7)"
      ]
     },
     "execution_count": 3,
     "metadata": {},
     "output_type": "execute_result"
    }
   ],
   "source": [
    "df.shape"
   ]
  },
  {
   "cell_type": "code",
   "execution_count": 4,
   "id": "3bedc380",
   "metadata": {},
   "outputs": [
    {
     "data": {
      "text/plain": [
       "Index(['Date', 'Company', 'Title', 'Location', 'Job Seniorty',\n",
       "       'Company Industry', 'Job link'],\n",
       "      dtype='object')"
      ]
     },
     "execution_count": 4,
     "metadata": {},
     "output_type": "execute_result"
    }
   ],
   "source": [
    "df.columns"
   ]
  },
  {
   "cell_type": "code",
   "execution_count": 5,
   "id": "81dadbde",
   "metadata": {},
   "outputs": [],
   "source": [
    "#Delete some columns\n",
    "df=df.drop(columns=[\"Company Industry\", \"Job Seniorty\", \"Job link\"])"
   ]
  },
  {
   "cell_type": "code",
   "execution_count": 6,
   "id": "e3485e73",
   "metadata": {},
   "outputs": [
    {
     "data": {
      "text/plain": [
       "Index(['Date', 'Company', 'Title', 'Location'], dtype='object')"
      ]
     },
     "execution_count": 6,
     "metadata": {},
     "output_type": "execute_result"
    }
   ],
   "source": [
    "df.columns"
   ]
  },
  {
   "cell_type": "code",
   "execution_count": 7,
   "id": "9618feb3",
   "metadata": {},
   "outputs": [],
   "source": [
    "#delete %100 duplicated rows\n",
    "df=df.drop_duplicates() "
   ]
  },
  {
   "cell_type": "code",
   "execution_count": 8,
   "id": "0c3f0590",
   "metadata": {},
   "outputs": [
    {
     "data": {
      "text/plain": [
       "(53330, 4)"
      ]
     },
     "execution_count": 8,
     "metadata": {},
     "output_type": "execute_result"
    }
   ],
   "source": [
    "df.shape"
   ]
  },
  {
   "cell_type": "code",
   "execution_count": 9,
   "id": "6e4790bf",
   "metadata": {},
   "outputs": [],
   "source": [
    "#formating columns to lower\n",
    "df.columns=df.columns.str.lower()"
   ]
  },
  {
   "cell_type": "code",
   "execution_count": 10,
   "id": "e5f00a53",
   "metadata": {},
   "outputs": [
    {
     "data": {
      "text/plain": [
       "Index(['date', 'company', 'title', 'location'], dtype='object')"
      ]
     },
     "execution_count": 10,
     "metadata": {},
     "output_type": "execute_result"
    }
   ],
   "source": [
    "df.columns"
   ]
  },
  {
   "cell_type": "code",
   "execution_count": 11,
   "id": "2c8263fa",
   "metadata": {},
   "outputs": [
    {
     "data": {
      "text/plain": [
       "date        object\n",
       "company     object\n",
       "title       object\n",
       "location    object\n",
       "dtype: object"
      ]
     },
     "execution_count": 11,
     "metadata": {},
     "output_type": "execute_result"
    }
   ],
   "source": [
    "#Checking data types\n",
    "df.dtypes"
   ]
  },
  {
   "cell_type": "code",
   "execution_count": 12,
   "id": "3f68e920",
   "metadata": {},
   "outputs": [],
   "source": [
    "#Coverting date column from str to date\n",
    "df['date'] = pd.to_datetime(df['date'])"
   ]
  },
  {
   "cell_type": "code",
   "execution_count": 13,
   "id": "eefcf433",
   "metadata": {},
   "outputs": [
    {
     "data": {
      "text/plain": [
       "date        datetime64[ns]\n",
       "company             object\n",
       "title               object\n",
       "location            object\n",
       "dtype: object"
      ]
     },
     "execution_count": 13,
     "metadata": {},
     "output_type": "execute_result"
    }
   ],
   "source": [
    "#Checking data types\n",
    "df.dtypes"
   ]
  },
  {
   "cell_type": "code",
   "execution_count": 14,
   "id": "39a93a3c",
   "metadata": {},
   "outputs": [
    {
     "data": {
      "text/plain": [
       "date         0\n",
       "company      0\n",
       "title        0\n",
       "location    25\n",
       "dtype: int64"
      ]
     },
     "execution_count": 14,
     "metadata": {},
     "output_type": "execute_result"
    }
   ],
   "source": [
    "#Checking nulls\n",
    "df.isnull().sum()"
   ]
  },
  {
   "cell_type": "code",
   "execution_count": 15,
   "id": "fd6b8e8e",
   "metadata": {},
   "outputs": [],
   "source": [
    "#Filling Null Values\n",
    "df[\"location\"]=df[\"location\"].fillna(\"0\")"
   ]
  },
  {
   "cell_type": "code",
   "execution_count": 16,
   "id": "37088239",
   "metadata": {},
   "outputs": [
    {
     "data": {
      "text/plain": [
       "date        0\n",
       "company     0\n",
       "title       0\n",
       "location    0\n",
       "dtype: int64"
      ]
     },
     "execution_count": 16,
     "metadata": {},
     "output_type": "execute_result"
    }
   ],
   "source": [
    "#Checking nulls\n",
    "df.isnull().sum()"
   ]
  },
  {
   "cell_type": "code",
   "execution_count": 17,
   "id": "a1ee3982",
   "metadata": {},
   "outputs": [
    {
     "data": {
      "text/plain": [
       "Cronoshare.com                     5638\n",
       "WIZBII                             2866\n",
       "Page Personnel                     1564\n",
       "Empresas IMAN                      1079\n",
       "GRUPO IMAN                          866\n",
       "                                   ... \n",
       "Hotel Fuerte Mareblla                 1\n",
       "IMPORTANTE EMPRESA DE SELECCIÓN       1\n",
       "Vivenzia Home                         1\n",
       "AGRUPACIÓN IUSTIME                    1\n",
       "Mitie s.a.                            1\n",
       "Name: company, Length: 8108, dtype: int64"
      ]
     },
     "execution_count": 17,
     "metadata": {},
     "output_type": "execute_result"
    }
   ],
   "source": [
    "#Checking company columnn\n",
    "df.company.value_counts()"
   ]
  },
  {
   "cell_type": "code",
   "execution_count": 18,
   "id": "e1aa1ef5",
   "metadata": {},
   "outputs": [
    {
     "data": {
      "text/plain": [
       "Prácticas online en el área de Content Marketing (SEO, SEM, Affiliate)    201\n",
       "Gerente – Emprende tu negocio Mail Boxes Etc.                             156\n",
       "Director asociado Mail Boxes Etc - Inscripción a webinar informativo      156\n",
       "Director Comercial de franquícia Mail Boxes Etc.                          156\n",
       "Adiestrador de perros para cachorro                                       145\n",
       "                                                                         ... \n",
       "Trabajo de limpiadora en Barcelona                                          1\n",
       "Inspector/a de instalaciones Contraincendios NACIONAL                       1\n",
       "Integration Developer                                                       1\n",
       "Beca Administración y Contabilidad                                          1\n",
       "Operarios/as Almacén (Nocturno)                                             1\n",
       "Name: title, Length: 36664, dtype: int64"
      ]
     },
     "execution_count": 18,
     "metadata": {},
     "output_type": "execute_result"
    }
   ],
   "source": [
    "#Checking title columnn\n",
    "df.title.value_counts()"
   ]
  },
  {
   "cell_type": "code",
   "execution_count": 19,
   "id": "cebee09c",
   "metadata": {
    "scrolled": true
   },
   "outputs": [
    {
     "data": {
      "text/plain": [
       "Madrid                        11973\n",
       "Barcelona                     10242\n",
       "Valencia/València              2313\n",
       "Málaga                         1671\n",
       "Zaragoza                       1261\n",
       "                              ...  \n",
       "Vallgorguina                      1\n",
       "Tella                             1\n",
       "Huécija                           1\n",
       "Sant Bartomeu de la Quadra        1\n",
       "Muros                             1\n",
       "Name: location, Length: 1856, dtype: int64"
      ]
     },
     "execution_count": 19,
     "metadata": {},
     "output_type": "execute_result"
    }
   ],
   "source": [
    "#Checking location columnn\n",
    "df.location.value_counts()"
   ]
  },
  {
   "cell_type": "code",
   "execution_count": 20,
   "id": "46347ed6",
   "metadata": {},
   "outputs": [],
   "source": [
    "#Export data to CSV\n",
    "df=df.to_csv('df.csv',encoding='utf-8-sig', index=False)"
   ]
  }
 ],
 "metadata": {
  "kernelspec": {
   "display_name": "Python 3",
   "language": "python",
   "name": "python3"
  },
  "language_info": {
   "codemirror_mode": {
    "name": "ipython",
    "version": 3
   },
   "file_extension": ".py",
   "mimetype": "text/x-python",
   "name": "python",
   "nbconvert_exporter": "python",
   "pygments_lexer": "ipython3",
   "version": "3.9.2"
  }
 },
 "nbformat": 4,
 "nbformat_minor": 5
}
