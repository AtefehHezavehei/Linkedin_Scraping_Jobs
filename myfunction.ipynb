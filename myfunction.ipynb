{
 "cells": [
  {
   "cell_type": "code",
   "execution_count": 1,
   "id": "eb1b0cb6",
   "metadata": {},
   "outputs": [],
   "source": [
    "# Importing Packages\n",
    "import pandas as pd\n",
    "from webdriver_manager.chrome import ChromeDriverManager\n",
    "from selenium import webdriver\n",
    "from datetime import date, timedelta, datetime\n",
    "from IPython.core.display import clear_output\n",
    "from random import randint\n",
    "from requests import get\n",
    "from selenium import webdriver\n",
    "from selenium.webdriver.common.action_chains import ActionChains\n",
    "from time import sleep\n",
    "from selenium.webdriver.chrome.options import Options\n",
    "from selenium.webdriver.common.keys import Keys\n",
    "from fake_useragent import UserAgent"
   ]
  },
  {
   "cell_type": "code",
   "execution_count": 2,
   "id": "4d574642",
   "metadata": {},
   "outputs": [
    {
     "name": "stderr",
     "output_type": "stream",
     "text": [
      "\n",
      "\n",
      "====== WebDriver manager ======\n",
      "Current google-chrome version is 91.0.4472\n",
      "Get LATEST driver version for 91.0.4472\n",
      "Driver [C:\\Users\\atefe\\.wdm\\drivers\\chromedriver\\win32\\91.0.4472.101\\chromedriver.exe] found in cache\n"
     ]
    }
   ],
   "source": [
    "webdriver.Chrome(ChromeDriverManager().install()).get('https://www.google.es')"
   ]
  },
  {
   "cell_type": "code",
   "execution_count": 3,
   "id": "81ff3a76",
   "metadata": {},
   "outputs": [],
   "source": [
    "# Driver Options\n",
    "\n",
    "opciones=Options()\n",
    "\n",
    "opciones.add_experimental_option('excludeSwitches', ['enable-automation'])\n",
    "opciones.add_experimental_option('useAutomationExtension', False) \n",
    "\n",
    "opciones.headless=False \n",
    "\n",
    "opciones.add_argument('--start-maximized')\n",
    "\n",
    "opciones.add_argument('driver/adblock.crx')  "
   ]
  },
  {
   "cell_type": "code",
   "execution_count": 4,
   "id": "655c6ef4",
   "metadata": {},
   "outputs": [],
   "source": [
    "#Random User Creation\n",
    "usuario=UserAgent().random\n",
    "\n",
    "opciones.add_argument(f'user-agent={usuario}')"
   ]
  },
  {
   "cell_type": "code",
   "execution_count": 5,
   "id": "378a0bbf",
   "metadata": {},
   "outputs": [
    {
     "name": "stderr",
     "output_type": "stream",
     "text": [
      "\n",
      "\n",
      "====== WebDriver manager ======\n",
      "Current google-chrome version is 91.0.4472\n",
      "Get LATEST driver version for 91.0.4472\n",
      "Driver [C:\\Users\\atefe\\.wdm\\drivers\\chromedriver\\win32\\91.0.4472.101\\chromedriver.exe] found in cache\n"
     ]
    }
   ],
   "source": [
    "PATH=ChromeDriverManager().install()"
   ]
  },
  {
   "cell_type": "code",
   "execution_count": 6,
   "id": "70a46da2",
   "metadata": {},
   "outputs": [],
   "source": [
    "def get_info(url,no_jobs,seniority,industry):\n",
    "    \n",
    "    job_title = []\n",
    "    company_name = []\n",
    "    location = []\n",
    "    date = []\n",
    "    job_seniorty=[]\n",
    "    company_industry=[]\n",
    "    job_link=[] \n",
    "\n",
    "    wd = webdriver.Chrome(PATH, options=opciones)  #Open up new window with the url\n",
    "    wd.get(url) \n",
    "    sleep(3)\n",
    "    \n",
    "    #Accept Cookies\n",
    "    wd.find_element_by_xpath('/html/body/div[1]/div/section/div/div[2]/button[2]').click()  \n",
    "    \n",
    "    #Show all jobs\n",
    "    i=2\n",
    "    while i <= int(no_jobs/25)+1: \n",
    "        wd.execute_script(\"window.scrollTo(0, document.body.scrollHeight);\")\n",
    "        i = i + 1\n",
    "        try:\n",
    "            wd.find_element_by_xpath(\"/html/body/div[1]/div/main/section/button\").click()\n",
    "            sleep(3)\n",
    "        except:\n",
    "            pass\n",
    "            sleep(3)\n",
    "\n",
    "    #Return a list with jobs\n",
    "    job_lists = wd.find_element_by_class_name(\"jobs-search__results-list\")\n",
    "    jobs = job_lists.find_elements_by_tag_name(\"li\")\n",
    "    \n",
    "    for job in jobs:\n",
    "\n",
    "        job_title0 = job.find_element_by_css_selector(\"h3\").get_attribute(\"innerText\")\n",
    "        job_title.append(job_title0)\n",
    "    \n",
    "        company_name0 = job.find_element_by_css_selector(\"h4\").get_attribute(\"innerText\")\n",
    "        company_name.append(company_name0)\n",
    "    \n",
    "        location0 = job.find_element_by_css_selector('span.job-search-card__location').get_attribute(\"innerText\")\n",
    "        location.append(location0)\n",
    "\n",
    "        date0 = job.find_element_by_css_selector(\"div>div>time\").get_attribute(\"datetime\")\n",
    "        date.append(date0)\n",
    "        \n",
    "        job_seniorty.append(seniority)\n",
    "        company_industry.append(industry)\n",
    "\n",
    "        links = job.find_elements_by_tag_name('a')\n",
    "        for l in links:\n",
    "            job_link.append(l.get_attribute('href'))\n",
    "            job_link=[x for x in job_link if not '/company' in x]\n",
    "        \n",
    "    #Saving Data as DataFrame\n",
    "    job_data = pd.DataFrame({\"Date\": date,\n",
    "    \"Company\": company_name,      \n",
    "    \"Title\": job_title,\n",
    "    \"Location\": location,\n",
    "    \"Job Seniorty\":job_seniorty,  \n",
    "    \"Company Industry\": company_industry,  \n",
    "    \"Job link\": job_link,                        \n",
    "     })\n",
    "        \n",
    "    return job_data"
   ]
  }
 ],
 "metadata": {
  "kernelspec": {
   "display_name": "Python 3",
   "language": "python",
   "name": "python3"
  },
  "language_info": {
   "codemirror_mode": {
    "name": "ipython",
    "version": 3
   },
   "file_extension": ".py",
   "mimetype": "text/x-python",
   "name": "python",
   "nbconvert_exporter": "python",
   "pygments_lexer": "ipython3",
   "version": "3.9.2"
  }
 },
 "nbformat": 4,
 "nbformat_minor": 5
}
