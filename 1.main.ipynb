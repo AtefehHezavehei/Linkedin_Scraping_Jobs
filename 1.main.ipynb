{
 "cells": [
  {
   "cell_type": "code",
   "execution_count": 1,
   "id": "a0d10743",
   "metadata": {},
   "outputs": [
    {
     "name": "stderr",
     "output_type": "stream",
     "text": [
      "\n",
      "\n",
      "====== WebDriver manager ======\n",
      "Current google-chrome version is 91.0.4472\n",
      "Get LATEST driver version for 91.0.4472\n",
      "Driver [C:\\Users\\atefe\\.wdm\\drivers\\chromedriver\\win32\\91.0.4472.101\\chromedriver.exe] found in cache\n",
      "\n",
      "\n",
      "====== WebDriver manager ======\n",
      "Current google-chrome version is 91.0.4472\n",
      "Get LATEST driver version for 91.0.4472\n",
      "Driver [C:\\Users\\atefe\\.wdm\\drivers\\chromedriver\\win32\\91.0.4472.101\\chromedriver.exe] found in cache\n"
     ]
    }
   ],
   "source": [
    "# Importing Packages\n",
    "import pandas as pd\n",
    "from webdriver_manager.chrome import ChromeDriverManager\n",
    "from selenium import webdriver\n",
    "from datetime import date, timedelta, datetime\n",
    "from IPython.core.display import clear_output\n",
    "from random import randint\n",
    "from requests import get\n",
    "from selenium import webdriver\n",
    "from selenium.webdriver.common.action_chains import ActionChains\n",
    "from time import sleep\n",
    "from selenium.webdriver.chrome.options import Options\n",
    "from selenium.webdriver.common.keys import Keys\n",
    "from fake_useragent import UserAgent\n",
    "from ipynb.fs.full.myfunction import get_info"
   ]
  },
  {
   "cell_type": "code",
   "execution_count": 2,
   "id": "835e66ff",
   "metadata": {},
   "outputs": [],
   "source": [
    "final=pd.read_csv('final.csv')"
   ]
  },
  {
   "cell_type": "code",
   "execution_count": 3,
   "id": "13cb93f5",
   "metadata": {},
   "outputs": [
    {
     "data": {
      "text/plain": [
       "(104480, 7)"
      ]
     },
     "execution_count": 3,
     "metadata": {},
     "output_type": "execute_result"
    }
   ],
   "source": [
    "final.shape"
   ]
  },
  {
   "cell_type": "code",
   "execution_count": 4,
   "id": "35858d8d",
   "metadata": {},
   "outputs": [],
   "source": [
    "# URL of search\n",
    "url = \"https://www.linkedin.com/jobs/search/?f_PP=106356396%2C106812674%2C102253611%2C103969862&f_TPR=r86400&geoId=105646813&location=Spain&sortBy=R\""
   ]
  },
  {
   "cell_type": "code",
   "execution_count": 5,
   "id": "1a38023c",
   "metadata": {},
   "outputs": [],
   "source": [
    "#Calling Function\n",
    "data=get_info(url,no_jobs=600,seniority=\"Junior\",industry=\"Stuff\")"
   ]
  },
  {
   "cell_type": "code",
   "execution_count": 6,
   "id": "3ccda853",
   "metadata": {},
   "outputs": [
    {
     "data": {
      "text/plain": [
       "(583, 7)"
      ]
     },
     "execution_count": 6,
     "metadata": {},
     "output_type": "execute_result"
    }
   ],
   "source": [
    "#Checking if no_jobs is correct\n",
    "data.shape"
   ]
  },
  {
   "cell_type": "code",
   "execution_count": 7,
   "id": "58180e62",
   "metadata": {
    "scrolled": true
   },
   "outputs": [
    {
     "data": {
      "text/html": [
       "<div>\n",
       "<style scoped>\n",
       "    .dataframe tbody tr th:only-of-type {\n",
       "        vertical-align: middle;\n",
       "    }\n",
       "\n",
       "    .dataframe tbody tr th {\n",
       "        vertical-align: top;\n",
       "    }\n",
       "\n",
       "    .dataframe thead th {\n",
       "        text-align: right;\n",
       "    }\n",
       "</style>\n",
       "<table border=\"1\" class=\"dataframe\">\n",
       "  <thead>\n",
       "    <tr style=\"text-align: right;\">\n",
       "      <th></th>\n",
       "      <th>Date</th>\n",
       "      <th>Company</th>\n",
       "      <th>Title</th>\n",
       "      <th>Location</th>\n",
       "      <th>Job Seniorty</th>\n",
       "      <th>Company Industry</th>\n",
       "      <th>Job link</th>\n",
       "    </tr>\n",
       "  </thead>\n",
       "  <tbody>\n",
       "    <tr>\n",
       "      <th>0</th>\n",
       "      <td>2021-06-17</td>\n",
       "      <td>UNIVERSIDAD CATÓLICA SAN ANTONIO DE MURCIA</td>\n",
       "      <td>European Project Manager.</td>\n",
       "      <td>Murcia</td>\n",
       "      <td>Junior</td>\n",
       "      <td>Stuff</td>\n",
       "      <td>https://es.linkedin.com/jobs/view/european-pro...</td>\n",
       "    </tr>\n",
       "    <tr>\n",
       "      <th>1</th>\n",
       "      <td>2021-06-17</td>\n",
       "      <td>WIZBII</td>\n",
       "      <td>Assistant Marketing Internacional</td>\n",
       "      <td>Murcia</td>\n",
       "      <td>Junior</td>\n",
       "      <td>Stuff</td>\n",
       "      <td>https://es.linkedin.com/jobs/view/assistant-ma...</td>\n",
       "    </tr>\n",
       "    <tr>\n",
       "      <th>2</th>\n",
       "      <td>2021-06-17</td>\n",
       "      <td>INTEREMPLEO</td>\n",
       "      <td>RESPONSABLE DE ADMINISTRACION</td>\n",
       "      <td>Murcia</td>\n",
       "      <td>Junior</td>\n",
       "      <td>Stuff</td>\n",
       "      <td>https://es.linkedin.com/jobs/view/responsable-...</td>\n",
       "    </tr>\n",
       "    <tr>\n",
       "      <th>3</th>\n",
       "      <td>2021-06-17</td>\n",
       "      <td>HIPRA</td>\n",
       "      <td>Coordinador/a de transporte y logística de fil...</td>\n",
       "      <td>Gerona</td>\n",
       "      <td>Junior</td>\n",
       "      <td>Stuff</td>\n",
       "      <td>https://es.linkedin.com/jobs/view/coordinador-...</td>\n",
       "    </tr>\n",
       "    <tr>\n",
       "      <th>4</th>\n",
       "      <td>2021-06-17</td>\n",
       "      <td>Hotel Aatu</td>\n",
       "      <td>RECEPCIONISTA / RESPONSABLE HOTEL</td>\n",
       "      <td>Gerona</td>\n",
       "      <td>Junior</td>\n",
       "      <td>Stuff</td>\n",
       "      <td>https://es.linkedin.com/jobs/view/recepcionist...</td>\n",
       "    </tr>\n",
       "  </tbody>\n",
       "</table>\n",
       "</div>"
      ],
      "text/plain": [
       "         Date                                     Company  \\\n",
       "0  2021-06-17  UNIVERSIDAD CATÓLICA SAN ANTONIO DE MURCIA   \n",
       "1  2021-06-17                                      WIZBII   \n",
       "2  2021-06-17                                 INTEREMPLEO   \n",
       "3  2021-06-17                                       HIPRA   \n",
       "4  2021-06-17                                  Hotel Aatu   \n",
       "\n",
       "                                               Title Location Job Seniorty  \\\n",
       "0                          European Project Manager.   Murcia       Junior   \n",
       "1                  Assistant Marketing Internacional   Murcia       Junior   \n",
       "2                      RESPONSABLE DE ADMINISTRACION   Murcia       Junior   \n",
       "3  Coordinador/a de transporte y logística de fil...   Gerona       Junior   \n",
       "4                  RECEPCIONISTA / RESPONSABLE HOTEL   Gerona       Junior   \n",
       "\n",
       "  Company Industry                                           Job link  \n",
       "0            Stuff  https://es.linkedin.com/jobs/view/european-pro...  \n",
       "1            Stuff  https://es.linkedin.com/jobs/view/assistant-ma...  \n",
       "2            Stuff  https://es.linkedin.com/jobs/view/responsable-...  \n",
       "3            Stuff  https://es.linkedin.com/jobs/view/coordinador-...  \n",
       "4            Stuff  https://es.linkedin.com/jobs/view/recepcionist...  "
      ]
     },
     "execution_count": 7,
     "metadata": {},
     "output_type": "execute_result"
    }
   ],
   "source": [
    "data.head()"
   ]
  },
  {
   "cell_type": "code",
   "execution_count": 8,
   "id": "f2c8199d",
   "metadata": {},
   "outputs": [],
   "source": [
    "final=final.append(data, ignore_index=True)"
   ]
  },
  {
   "cell_type": "code",
   "execution_count": 9,
   "id": "94cfc40c",
   "metadata": {},
   "outputs": [
    {
     "data": {
      "text/plain": [
       "(105063, 7)"
      ]
     },
     "execution_count": 9,
     "metadata": {},
     "output_type": "execute_result"
    }
   ],
   "source": [
    "final.shape"
   ]
  },
  {
   "cell_type": "code",
   "execution_count": 10,
   "id": "61dc795d",
   "metadata": {},
   "outputs": [],
   "source": [
    "#Export data to CSV\n",
    "final=final.to_csv('final.csv',index=False)"
   ]
  }
 ],
 "metadata": {
  "kernelspec": {
   "display_name": "Python 3",
   "language": "python",
   "name": "python3"
  },
  "language_info": {
   "codemirror_mode": {
    "name": "ipython",
    "version": 3
   },
   "file_extension": ".py",
   "mimetype": "text/x-python",
   "name": "python",
   "nbconvert_exporter": "python",
   "pygments_lexer": "ipython3",
   "version": "3.9.2"
  }
 },
 "nbformat": 4,
 "nbformat_minor": 5
}
