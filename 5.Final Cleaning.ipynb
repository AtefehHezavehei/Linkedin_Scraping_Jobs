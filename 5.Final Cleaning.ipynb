{
 "cells": [
  {
   "cell_type": "code",
   "execution_count": 1,
   "id": "618e25e6",
   "metadata": {},
   "outputs": [],
   "source": [
    "#import libraries\n",
    "import numpy as np\n",
    "import pandas as pd\n",
    "import csv"
   ]
  },
  {
   "cell_type": "code",
   "execution_count": 2,
   "id": "e62b0c3a",
   "metadata": {},
   "outputs": [],
   "source": [
    "df=pd.read_csv(\"df3.csv\")"
   ]
  },
  {
   "cell_type": "code",
   "execution_count": 3,
   "id": "f0c725aa",
   "metadata": {},
   "outputs": [
    {
     "data": {
      "text/html": [
       "<div>\n",
       "<style scoped>\n",
       "    .dataframe tbody tr th:only-of-type {\n",
       "        vertical-align: middle;\n",
       "    }\n",
       "\n",
       "    .dataframe tbody tr th {\n",
       "        vertical-align: top;\n",
       "    }\n",
       "\n",
       "    .dataframe thead th {\n",
       "        text-align: right;\n",
       "    }\n",
       "</style>\n",
       "<table border=\"1\" class=\"dataframe\">\n",
       "  <thead>\n",
       "    <tr style=\"text-align: right;\">\n",
       "      <th></th>\n",
       "      <th>date</th>\n",
       "      <th>company</th>\n",
       "      <th>title</th>\n",
       "      <th>location</th>\n",
       "    </tr>\n",
       "  </thead>\n",
       "  <tbody>\n",
       "    <tr>\n",
       "      <th>0</th>\n",
       "      <td>2021-06-08</td>\n",
       "      <td>#AttittudTalent Atraer y Desarrollar el Talento</td>\n",
       "      <td>General_Manager</td>\n",
       "      <td>Madrid</td>\n",
       "    </tr>\n",
       "    <tr>\n",
       "      <th>1</th>\n",
       "      <td>2021-06-14</td>\n",
       "      <td>PROCURA MANAGEMENT SERVICES, S.L</td>\n",
       "      <td>Customer_Service</td>\n",
       "      <td>Cataluña</td>\n",
       "    </tr>\n",
       "    <tr>\n",
       "      <th>2</th>\n",
       "      <td>2021-06-16</td>\n",
       "      <td>Cobee</td>\n",
       "      <td>Financial_Controller</td>\n",
       "      <td>Madrid</td>\n",
       "    </tr>\n",
       "    <tr>\n",
       "      <th>3</th>\n",
       "      <td>2021-06-09</td>\n",
       "      <td>Mgroup Consultoria en Recursos Humanos</td>\n",
       "      <td>Administrative</td>\n",
       "      <td>Cataluña</td>\n",
       "    </tr>\n",
       "    <tr>\n",
       "      <th>4</th>\n",
       "      <td>2021-06-10</td>\n",
       "      <td>Spin (Ford Mobility)</td>\n",
       "      <td>General_Manager</td>\n",
       "      <td>Cataluña</td>\n",
       "    </tr>\n",
       "  </tbody>\n",
       "</table>\n",
       "</div>"
      ],
      "text/plain": [
       "         date                                          company  \\\n",
       "0  2021-06-08  #AttittudTalent Atraer y Desarrollar el Talento   \n",
       "1  2021-06-14                 PROCURA MANAGEMENT SERVICES, S.L   \n",
       "2  2021-06-16                                            Cobee   \n",
       "3  2021-06-09           Mgroup Consultoria en Recursos Humanos   \n",
       "4  2021-06-10                             Spin (Ford Mobility)   \n",
       "\n",
       "                  title  location  \n",
       "0       General_Manager    Madrid  \n",
       "1      Customer_Service  Cataluña  \n",
       "2  Financial_Controller    Madrid  \n",
       "3        Administrative  Cataluña  \n",
       "4       General_Manager  Cataluña  "
      ]
     },
     "execution_count": 3,
     "metadata": {},
     "output_type": "execute_result"
    }
   ],
   "source": [
    "df.head()"
   ]
  },
  {
   "cell_type": "code",
   "execution_count": 4,
   "id": "65f874a4",
   "metadata": {},
   "outputs": [
    {
     "data": {
      "text/plain": [
       "Sales_Specialist                                             3452\n",
       "Technician                                                   3156\n",
       "SW_APP_Developer                                             2453\n",
       "Data_Analytics                                               2217\n",
       "Shop_Agent                                                   1926\n",
       "                                                             ... \n",
       "presupuesto para reparación de una cinta de correr reebok       1\n",
       "strategic alliances manager                                     1\n",
       "técnico de selección de personal                                1\n",
       "soldadors/es                                                    1\n",
       "auditor/a senior en riesgo tecnológico                          1\n",
       "Name: title, Length: 6516, dtype: int64"
      ]
     },
     "execution_count": 4,
     "metadata": {},
     "output_type": "execute_result"
    }
   ],
   "source": [
    "df.title.value_counts()"
   ]
  },
  {
   "cell_type": "code",
   "execution_count": 5,
   "id": "d24bb23c",
   "metadata": {},
   "outputs": [],
   "source": [
    "#SW_Developer\n",
    "df.loc[df[\"title\"].str.contains(\"desarollador/a\", case=False), \"title\"] = \"SW_APP_Developer\"\n",
    "df.loc[df[\"title\"].str.contains(\"desarollado\", case=False), \"title\"] = \"SW_APP_Developer\"\n",
    "\n",
    "#Marketing\n",
    "df.loc[df[\"title\"].str.contains(\"comunicación\", case=False), \"title\"] = \"Marketing\"\n",
    "\n",
    "#Network_Expert\n",
    "df.loc[df[\"title\"].str.contains(\"comunicaciones\", case=False), \"title\"] = \"Network_Expert\"\n",
    "\n",
    "#Other_Egineer\n",
    "df.loc[df[\"title\"].str.contains(\"ingeniero/a\", case=False), \"title\"] = \"Other_Engineer\"\n",
    "df.loc[df[\"title\"].str.contains(\"ingeniería\", case=False), \"title\"] = \"Other_Engineer\"\n"
   ]
  },
  {
   "cell_type": "code",
   "execution_count": 6,
   "id": "2b77ba30",
   "metadata": {},
   "outputs": [
    {
     "data": {
      "text/plain": [
       "Sales_Specialist                                             3452\n",
       "Technician                                                   3156\n",
       "SW_APP_Developer                                             2454\n",
       "Data_Analytics                                               2217\n",
       "Shop_Agent                                                   1926\n",
       "                                                             ... \n",
       "seo specialist - bilingue italiano                              1\n",
       "chofer reparto                                                  1\n",
       "presupuesto reforma integral para vivienda más de 40 años       1\n",
       "presupuesto para reparación de una cinta de correr reebok       1\n",
       "auditor/a senior en riesgo tecnológico                          1\n",
       "Name: title, Length: 6373, dtype: int64"
      ]
     },
     "execution_count": 6,
     "metadata": {},
     "output_type": "execute_result"
    }
   ],
   "source": [
    "df.title.value_counts()"
   ]
  },
  {
   "cell_type": "code",
   "execution_count": 7,
   "id": "9b1f917c",
   "metadata": {},
   "outputs": [],
   "source": [
    "#Job Function\n",
    "function={\n",
    "\"Frontend_Developer\":\"Tech\",\"Backend_Developer\":\"Tech\",\"Data_Analytics\":\"Tech\"\n",
    ",\"Cybersecurity\":\"Tech\",\"Cloud_Expert\":\"Tech\",\"UX/UI_Designer\":\"Tech\"\n",
    ",\"System_Admin\":\"Tech\",\"SW_APP_Developer\":\"Tech\",\"Network_Expert\":\"Tech\"\n",
    ",\"QA_Engineer\":\"Tech\",\"IT_Support\":\"Tech\",\"Solution_Architect\":\"Tech\"   \n",
    ",\"Director\": \"Management\",\"Project_Manager\":\"Management\",\"CustomerSuccess_Manager\" :\"Management\"\n",
    ",\"Product_Manager\" :\"Management\",\"Vendor_manager\":\"Management\",\"Area_Manager\":\"Management\"\n",
    ",\"Scrum_Master\":\"Quality & Process\",\"Process_Expert\":\"Quality & Process\"\n",
    ",\"Quality_Manager\":\"Quality & Process\",\"Business_Developer\":\"Sales\",\"Account_Manager\":\"Sales\"\n",
    ",\"Sales_Specialist\":\"Sales\",\"Presale_Specialist\":\"Sales\"\n",
    ",\"General_Manager\":\"Operations\",\"Regional_Manger\":\"Operations\"\n",
    ",\"Operations_Staff\":\"Operations\",\"Customer_Service\":\"Operations\",\"Field_Engineer\":\"Operations\"\n",
    ",\"Other_Engineer\":\"Operations\",\"Supervisor\":\"Operations\",\"Marketing\":\"Marketing\",\"Media\":\"Marketing\"\n",
    ",\"Financial_Advisor\":\"Finance\",\"Financial_Controller\":\"Finance\",\"Lawyer\":\"Finance\"\n",
    ",\"Consultant\":\"Finance\",\"Talent_Specialist\":\"Talent_Specialist\",\"Nurse\":\"Health_Care\"\n",
    ",\"Doctor\":\"Health_Care\",\"Physiotherapist\":\"Health_Care\"\n",
    ",\"Pharmacy_Technician\":\"Health_Care\",\"Health_Assitant\":\"Health_Care\"\n",
    ",\"Health_Dental\":\"Health_Care\",\"nutritionist\":\"Health_Care\",\"Veterinarian\":\"Health_Care\"\n",
    ",\"Construction\":\"Construction\",\"Realestate\":\"Realestate_Agent\"\n",
    ",\"Researcher\":\"Education\",\"Internship\":\"Education\",\"Teacher\":\"Education\"\n",
    ",\"Dog_Trainer\":\"Services\",\"Fitness\":\"Services\",\"Cook\":\"Services\",\"Waiter\":\"Services\"\n",
    ",\"Driver\":\"Services\" ,\"Housekeeper\":\"Services\",\"Operator\":\"Services\",\"Warehouse\":\"Services\"\n",
    ",\"Auxiliary_Staff\":\"Services\",\"Shop_Agent\":\"Services\",\"Assitant\":\"Services\"\n",
    ",\"Administrative\":\"Services\",\"Technician\":\"Services\",\"Welfare\":\"Services\"\n",
    ",\"Art_Design\":\"Art_Design\"    \n",
    "}"
   ]
  },
  {
   "cell_type": "code",
   "execution_count": 8,
   "id": "9f726c3d",
   "metadata": {},
   "outputs": [],
   "source": [
    "#Creating Job Function Column\n",
    "df['Job_function']=df['title'].map(function)\n",
    "df['Job_function']=df['Job_function'].fillna(\"other\")"
   ]
  },
  {
   "cell_type": "code",
   "execution_count": 9,
   "id": "e66c0c2a",
   "metadata": {},
   "outputs": [
    {
     "data": {
      "text/html": [
       "<div>\n",
       "<style scoped>\n",
       "    .dataframe tbody tr th:only-of-type {\n",
       "        vertical-align: middle;\n",
       "    }\n",
       "\n",
       "    .dataframe tbody tr th {\n",
       "        vertical-align: top;\n",
       "    }\n",
       "\n",
       "    .dataframe thead th {\n",
       "        text-align: right;\n",
       "    }\n",
       "</style>\n",
       "<table border=\"1\" class=\"dataframe\">\n",
       "  <thead>\n",
       "    <tr style=\"text-align: right;\">\n",
       "      <th></th>\n",
       "      <th>date</th>\n",
       "      <th>company</th>\n",
       "      <th>title</th>\n",
       "      <th>location</th>\n",
       "      <th>Job_function</th>\n",
       "    </tr>\n",
       "  </thead>\n",
       "  <tbody>\n",
       "    <tr>\n",
       "      <th>0</th>\n",
       "      <td>2021-06-08</td>\n",
       "      <td>#AttittudTalent Atraer y Desarrollar el Talento</td>\n",
       "      <td>General_Manager</td>\n",
       "      <td>Madrid</td>\n",
       "      <td>Operations</td>\n",
       "    </tr>\n",
       "    <tr>\n",
       "      <th>1</th>\n",
       "      <td>2021-06-14</td>\n",
       "      <td>PROCURA MANAGEMENT SERVICES, S.L</td>\n",
       "      <td>Customer_Service</td>\n",
       "      <td>Cataluña</td>\n",
       "      <td>Operations</td>\n",
       "    </tr>\n",
       "    <tr>\n",
       "      <th>2</th>\n",
       "      <td>2021-06-16</td>\n",
       "      <td>Cobee</td>\n",
       "      <td>Financial_Controller</td>\n",
       "      <td>Madrid</td>\n",
       "      <td>Finance</td>\n",
       "    </tr>\n",
       "    <tr>\n",
       "      <th>3</th>\n",
       "      <td>2021-06-09</td>\n",
       "      <td>Mgroup Consultoria en Recursos Humanos</td>\n",
       "      <td>Administrative</td>\n",
       "      <td>Cataluña</td>\n",
       "      <td>Services</td>\n",
       "    </tr>\n",
       "    <tr>\n",
       "      <th>4</th>\n",
       "      <td>2021-06-10</td>\n",
       "      <td>Spin (Ford Mobility)</td>\n",
       "      <td>General_Manager</td>\n",
       "      <td>Cataluña</td>\n",
       "      <td>Operations</td>\n",
       "    </tr>\n",
       "  </tbody>\n",
       "</table>\n",
       "</div>"
      ],
      "text/plain": [
       "         date                                          company  \\\n",
       "0  2021-06-08  #AttittudTalent Atraer y Desarrollar el Talento   \n",
       "1  2021-06-14                 PROCURA MANAGEMENT SERVICES, S.L   \n",
       "2  2021-06-16                                            Cobee   \n",
       "3  2021-06-09           Mgroup Consultoria en Recursos Humanos   \n",
       "4  2021-06-10                             Spin (Ford Mobility)   \n",
       "\n",
       "                  title  location Job_function  \n",
       "0       General_Manager    Madrid   Operations  \n",
       "1      Customer_Service  Cataluña   Operations  \n",
       "2  Financial_Controller    Madrid      Finance  \n",
       "3        Administrative  Cataluña     Services  \n",
       "4       General_Manager  Cataluña   Operations  "
      ]
     },
     "execution_count": 9,
     "metadata": {},
     "output_type": "execute_result"
    }
   ],
   "source": [
    "df.head()"
   ]
  },
  {
   "cell_type": "code",
   "execution_count": 10,
   "id": "d3583d70",
   "metadata": {},
   "outputs": [],
   "source": [
    "#Export data to CSV\n",
    "df=df.to_csv('df4.csv',encoding='utf-8-sig', index=False)"
   ]
  },
  {
   "cell_type": "code",
   "execution_count": null,
   "id": "6204546c",
   "metadata": {},
   "outputs": [],
   "source": []
  }
 ],
 "metadata": {
  "kernelspec": {
   "display_name": "Python 3",
   "language": "python",
   "name": "python3"
  },
  "language_info": {
   "codemirror_mode": {
    "name": "ipython",
    "version": 3
   },
   "file_extension": ".py",
   "mimetype": "text/x-python",
   "name": "python",
   "nbconvert_exporter": "python",
   "pygments_lexer": "ipython3",
   "version": "3.9.2"
  }
 },
 "nbformat": 4,
 "nbformat_minor": 5
}
